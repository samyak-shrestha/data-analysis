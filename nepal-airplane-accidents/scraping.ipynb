{
 "cells": [
  {
   "cell_type": "code",
   "execution_count": 4,
   "id": "04ff762e-ddd1-4359-a74b-d86d27bb8212",
   "metadata": {},
   "outputs": [
    {
     "name": "stderr",
     "output_type": "stream",
     "text": [
      "/tmp/ipykernel_44520/3920764868.py:20: FutureWarning: Passing literal html to 'read_html' is deprecated and will be removed in a future version. To read from a literal string, wrap it in a 'StringIO' object.\n",
      "  df = pd.read_html(str(table))[0]\n",
      "/tmp/ipykernel_44520/3920764868.py:20: FutureWarning: Passing literal html to 'read_html' is deprecated and will be removed in a future version. To read from a literal string, wrap it in a 'StringIO' object.\n",
      "  df = pd.read_html(str(table))[0]\n",
      "/tmp/ipykernel_44520/3920764868.py:20: FutureWarning: Passing literal html to 'read_html' is deprecated and will be removed in a future version. To read from a literal string, wrap it in a 'StringIO' object.\n",
      "  df = pd.read_html(str(table))[0]\n"
     ]
    }
   ],
   "source": [
    "import requests\n",
    "from bs4 import BeautifulSoup\n",
    "import pandas as pd\n",
    "\n",
    "# Fetch the Web Page\n",
    "url = \"https://en.wikipedia.org/wiki/List_of_airplane_accidents_in_Nepal\"\n",
    "response = requests.get(url)\n",
    "\n",
    "# Parse the HTML Content\n",
    "soup = BeautifulSoup(response.content, \"html.parser\")\n",
    "\n",
    "# Identify and Extract Tables\n",
    "tables = soup.find_all(\"table\", {\"class\": \"wikitable\"})\n",
    "\n",
    "# print(tables)\n",
    "\n",
    "# Convert Tables to DataFrames\n",
    "dataframes = []\n",
    "for table in tables:\n",
    "    df = pd.read_html(str(table))[0]\n",
    "    dataframes.append(df)\n",
    "\n",
    "# Assign Meaningful Names\n",
    "foreign_accidents = dataframes[0]\n",
    "domestic_accidents = dataframes[1]\n",
    "helicopter_accidents = dataframes[2]\n",
    "\n",
    "# Clean and Structure the Data\n",
    "# Example for foreign_accidents\n",
    "foreign_accidents.columns = [\"Date\", \"Type of Aircraft\", \"Operator\", \"Place\", \"Fatality\", \"Detail link\", \"References\"]\n",
    "domestic_accidents.columns = [\"Date\", \"Type of Aircraft\", \"Operator\", \"Place\", \"Fatality\", \"Detail link\", \"References\"]\n",
    "helicopter_accidents.columns = [\"Date\", \"Type of Aircraft\", \"Operator\", \"Place\", \"Fatality\", \"Detail link\", \"References\"]\n",
    "\n",
    "# Save or Analyze the Data\n",
    "foreign_accidents.to_csv(\"foreign_accidents.csv\", index=False)\n",
    "domestic_accidents.to_csv(\"domestic_accidents.csv\", index=False)\n",
    "helicopter_accidents.to_csv(\"helicopter_accidents.csv\", index=False)\n"
   ]
  },
  {
   "cell_type": "code",
   "execution_count": null,
   "id": "f357cd1b-ba9d-4007-81e9-e9deff7f1335",
   "metadata": {},
   "outputs": [],
   "source": []
  },
  {
   "cell_type": "code",
   "execution_count": null,
   "id": "74ddb404-e006-4712-87c9-b61bd751c469",
   "metadata": {},
   "outputs": [],
   "source": []
  },
  {
   "cell_type": "code",
   "execution_count": null,
   "id": "9a2c8111-cc54-4042-aa8e-ea52a7ff01a4",
   "metadata": {},
   "outputs": [],
   "source": []
  },
  {
   "cell_type": "code",
   "execution_count": null,
   "id": "0ba3973e-9808-4d7f-9dc7-8e500b229218",
   "metadata": {},
   "outputs": [],
   "source": []
  }
 ],
 "metadata": {
  "kernelspec": {
   "display_name": "Python 3 (ipykernel)",
   "language": "python",
   "name": "python3"
  },
  "language_info": {
   "codemirror_mode": {
    "name": "ipython",
    "version": 3
   },
   "file_extension": ".py",
   "mimetype": "text/x-python",
   "name": "python",
   "nbconvert_exporter": "python",
   "pygments_lexer": "ipython3",
   "version": "3.10.12"
  }
 },
 "nbformat": 4,
 "nbformat_minor": 5
}
