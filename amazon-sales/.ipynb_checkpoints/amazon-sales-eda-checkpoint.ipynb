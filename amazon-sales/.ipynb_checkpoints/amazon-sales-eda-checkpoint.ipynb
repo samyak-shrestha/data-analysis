{
 "cells": [
  {
   "cell_type": "markdown",
   "id": "1919afce-6667-4474-b79f-25f82b246282",
   "metadata": {},
   "source": [
    "# Introduction\n",
    "The notebook is based on the data from Kaggle, provided by the username KARKAVELRAJA J, and the direct URL to the dataset is https://www.kaggle.com/datasets/karkavelrajaj/amazon-sales-dataset\n",
    "\n",
    "### Objective:\n",
    "- Which products are the best sellers?\n",
    "- Which products generate the most revenue?\n",
    "- Which gender purchases more frequently?\n",
    "- What age range buys the most?\n",
    "- During which dates or periods are sales the highest?\n",
    "- Are there differences in the types of products purchased based on gender or age?"
   ]
  },
  {
   "cell_type": "markdown",
   "id": "d793f21b-9e02-4019-9280-d3fa23f081d5",
   "metadata": {},
   "source": [
    "# Attribute Information\n",
    "\n",
    "1) product_id - Product ID\n",
    "2) product_name - Name of the Product\n",
    "3) category - Category of the Product\n",
    "4) discounted_price - Discounted Price of the Product\n",
    "5) actual_price - Actual Price of the Product\n",
    "6) discount_percentage - Percentage of Discount for the Product\n",
    "7) rating - Rating of the Product\n",
    "8) rating_count - Number of people who voted for the Amazon rating\n",
    "9) about_product - Description about the Product\n",
    "10) user_id - ID of the user who wrote review for the Product\n",
    "11) user_name - Name of the user who wrote review for the Product\n",
    "12) review_id - ID of the user review\n",
    "13) review_title - Short review\n",
    "14) review_content - Long review\n",
    "15) img_link - Image Link of the Product\n",
    "16) product_link - Official Website Link of the Product\n"
   ]
  },
  {
   "cell_type": "code",
   "execution_count": 3,
   "id": "b170e09c-2fa5-4280-803b-a74ce4080026",
   "metadata": {},
   "outputs": [
    {
     "name": "stdout",
     "output_type": "stream",
     "text": [
      "4.4.0\n",
      "Python version: 3.13.2 (tags/v3.13.2:4f8bb39, Feb  4 2025, 15:23:48) [MSC v.1942 64 bit (AMD64)]\n"
     ]
    }
   ],
   "source": [
    "#Print system version\n",
    "!jupyter-lab --version\n",
    "import sys\n",
    "print(\"Python version:\", sys.version)"
   ]
  },
  {
   "cell_type": "code",
   "execution_count": 23,
   "id": "ebff743e-b684-4bf2-95c1-95ca8fb0cd97",
   "metadata": {},
   "outputs": [],
   "source": [
    "# importing necessary libraries\n",
    "\n",
    "import pandas as pd # for data manipulation and analysis\n",
    "import collections # for creating and manipulating Python's collections like OrderedDict, defaultdict, Counter, etc.\n",
    "import numpy as np # for scientific computing with Python\n",
    "import matplotlib.pyplot as plt # for data visualization\n",
    "%matplotlib inline\n",
    "import seaborn as sns # for advanced visualization"
   ]
  },
  {
   "cell_type": "code",
   "execution_count": 14,
   "id": "727058ec-4cae-4778-954a-da0a52208f4f",
   "metadata": {},
   "outputs": [],
   "source": [
    "#   first read the data file\n",
    "df = pd.read_csv(\"Sales-Dataset.csv\")"
   ]
  },
  {
   "cell_type": "markdown",
   "id": "84fc8759-6def-47f5-b8b5-386124f988b6",
   "metadata": {},
   "source": [
    "## Exploratory Data Analysis\n",
    "We need to explore/clean/filter it before processing it for machine learning It involves adding/deleting few columns or rows, joining some other data, and handling qualitative variables like dates."
   ]
  },
  {
   "cell_type": "code",
   "execution_count": 10,
   "id": "d1410fe9-50a3-4faf-a199-3fc41d51d8f1",
   "metadata": {},
   "outputs": [
    {
     "data": {
      "text/plain": [
       "(1000, 8)"
      ]
     },
     "execution_count": 10,
     "metadata": {},
     "output_type": "execute_result"
    }
   ],
   "source": [
    "df.shape"
   ]
  },
  {
   "cell_type": "code",
   "execution_count": 12,
   "id": "b1d180a7-d0e0-4ac7-b263-5652af72d4e9",
   "metadata": {},
   "outputs": [
    {
     "data": {
      "text/html": [
       "<div>\n",
       "<style scoped>\n",
       "    .dataframe tbody tr th:only-of-type {\n",
       "        vertical-align: middle;\n",
       "    }\n",
       "\n",
       "    .dataframe tbody tr th {\n",
       "        vertical-align: top;\n",
       "    }\n",
       "\n",
       "    .dataframe thead th {\n",
       "        text-align: right;\n",
       "    }\n",
       "</style>\n",
       "<table border=\"1\" class=\"dataframe\">\n",
       "  <thead>\n",
       "    <tr style=\"text-align: right;\">\n",
       "      <th></th>\n",
       "      <th>Unnamed: 0</th>\n",
       "      <th>Date</th>\n",
       "      <th>Gender</th>\n",
       "      <th>Age</th>\n",
       "      <th>Product Category</th>\n",
       "      <th>Quantity</th>\n",
       "      <th>Price per Unit</th>\n",
       "      <th>Total Amount</th>\n",
       "    </tr>\n",
       "  </thead>\n",
       "  <tbody>\n",
       "    <tr>\n",
       "      <th>0</th>\n",
       "      <td>0</td>\n",
       "      <td>2023-11-24</td>\n",
       "      <td>Male</td>\n",
       "      <td>34</td>\n",
       "      <td>Beauty</td>\n",
       "      <td>3</td>\n",
       "      <td>50</td>\n",
       "      <td>150</td>\n",
       "    </tr>\n",
       "    <tr>\n",
       "      <th>1</th>\n",
       "      <td>1</td>\n",
       "      <td>2023-02-27</td>\n",
       "      <td>Female</td>\n",
       "      <td>26</td>\n",
       "      <td>Clothing</td>\n",
       "      <td>2</td>\n",
       "      <td>500</td>\n",
       "      <td>1000</td>\n",
       "    </tr>\n",
       "    <tr>\n",
       "      <th>2</th>\n",
       "      <td>2</td>\n",
       "      <td>2023-01-13</td>\n",
       "      <td>Male</td>\n",
       "      <td>50</td>\n",
       "      <td>Electronics</td>\n",
       "      <td>1</td>\n",
       "      <td>30</td>\n",
       "      <td>30</td>\n",
       "    </tr>\n",
       "    <tr>\n",
       "      <th>3</th>\n",
       "      <td>3</td>\n",
       "      <td>2023-05-21</td>\n",
       "      <td>Male</td>\n",
       "      <td>37</td>\n",
       "      <td>Clothing</td>\n",
       "      <td>1</td>\n",
       "      <td>500</td>\n",
       "      <td>500</td>\n",
       "    </tr>\n",
       "    <tr>\n",
       "      <th>4</th>\n",
       "      <td>4</td>\n",
       "      <td>2023-05-06</td>\n",
       "      <td>Male</td>\n",
       "      <td>30</td>\n",
       "      <td>Beauty</td>\n",
       "      <td>2</td>\n",
       "      <td>50</td>\n",
       "      <td>100</td>\n",
       "    </tr>\n",
       "  </tbody>\n",
       "</table>\n",
       "</div>"
      ],
      "text/plain": [
       "   Unnamed: 0        Date  Gender  Age Product Category  Quantity  \\\n",
       "0           0  2023-11-24    Male   34           Beauty         3   \n",
       "1           1  2023-02-27  Female   26         Clothing         2   \n",
       "2           2  2023-01-13    Male   50      Electronics         1   \n",
       "3           3  2023-05-21    Male   37         Clothing         1   \n",
       "4           4  2023-05-06    Male   30           Beauty         2   \n",
       "\n",
       "   Price per Unit  Total Amount  \n",
       "0              50           150  \n",
       "1             500          1000  \n",
       "2              30            30  \n",
       "3             500           500  \n",
       "4              50           100  "
      ]
     },
     "execution_count": 12,
     "metadata": {},
     "output_type": "execute_result"
    }
   ],
   "source": [
    "df.head()"
   ]
  },
  {
   "cell_type": "markdown",
   "id": "130e0762-264e-417e-99fe-9db7827373ba",
   "metadata": {},
   "source": [
    "Lets summarize the central tendency, dispersion and shape of dataset distribution"
   ]
  },
  {
   "cell_type": "code",
   "execution_count": 15,
   "id": "abfaa604-ed6c-4506-9236-e29feb65b83b",
   "metadata": {},
   "outputs": [
    {
     "data": {
      "text/html": [
       "<div>\n",
       "<style scoped>\n",
       "    .dataframe tbody tr th:only-of-type {\n",
       "        vertical-align: middle;\n",
       "    }\n",
       "\n",
       "    .dataframe tbody tr th {\n",
       "        vertical-align: top;\n",
       "    }\n",
       "\n",
       "    .dataframe thead th {\n",
       "        text-align: right;\n",
       "    }\n",
       "</style>\n",
       "<table border=\"1\" class=\"dataframe\">\n",
       "  <thead>\n",
       "    <tr style=\"text-align: right;\">\n",
       "      <th></th>\n",
       "      <th>Unnamed: 0</th>\n",
       "      <th>Age</th>\n",
       "      <th>Quantity</th>\n",
       "      <th>Price per Unit</th>\n",
       "      <th>Total Amount</th>\n",
       "    </tr>\n",
       "  </thead>\n",
       "  <tbody>\n",
       "    <tr>\n",
       "      <th>count</th>\n",
       "      <td>1000.000000</td>\n",
       "      <td>1000.00000</td>\n",
       "      <td>1000.000000</td>\n",
       "      <td>1000.000000</td>\n",
       "      <td>1000.000000</td>\n",
       "    </tr>\n",
       "    <tr>\n",
       "      <th>mean</th>\n",
       "      <td>499.500000</td>\n",
       "      <td>41.39200</td>\n",
       "      <td>2.514000</td>\n",
       "      <td>179.890000</td>\n",
       "      <td>456.000000</td>\n",
       "    </tr>\n",
       "    <tr>\n",
       "      <th>std</th>\n",
       "      <td>288.819436</td>\n",
       "      <td>13.68143</td>\n",
       "      <td>1.132734</td>\n",
       "      <td>189.681356</td>\n",
       "      <td>559.997632</td>\n",
       "    </tr>\n",
       "    <tr>\n",
       "      <th>min</th>\n",
       "      <td>0.000000</td>\n",
       "      <td>18.00000</td>\n",
       "      <td>1.000000</td>\n",
       "      <td>25.000000</td>\n",
       "      <td>25.000000</td>\n",
       "    </tr>\n",
       "    <tr>\n",
       "      <th>25%</th>\n",
       "      <td>249.750000</td>\n",
       "      <td>29.00000</td>\n",
       "      <td>1.000000</td>\n",
       "      <td>30.000000</td>\n",
       "      <td>60.000000</td>\n",
       "    </tr>\n",
       "    <tr>\n",
       "      <th>50%</th>\n",
       "      <td>499.500000</td>\n",
       "      <td>42.00000</td>\n",
       "      <td>3.000000</td>\n",
       "      <td>50.000000</td>\n",
       "      <td>135.000000</td>\n",
       "    </tr>\n",
       "    <tr>\n",
       "      <th>75%</th>\n",
       "      <td>749.250000</td>\n",
       "      <td>53.00000</td>\n",
       "      <td>4.000000</td>\n",
       "      <td>300.000000</td>\n",
       "      <td>900.000000</td>\n",
       "    </tr>\n",
       "    <tr>\n",
       "      <th>max</th>\n",
       "      <td>999.000000</td>\n",
       "      <td>64.00000</td>\n",
       "      <td>4.000000</td>\n",
       "      <td>500.000000</td>\n",
       "      <td>2000.000000</td>\n",
       "    </tr>\n",
       "  </tbody>\n",
       "</table>\n",
       "</div>"
      ],
      "text/plain": [
       "        Unnamed: 0         Age     Quantity  Price per Unit  Total Amount\n",
       "count  1000.000000  1000.00000  1000.000000     1000.000000   1000.000000\n",
       "mean    499.500000    41.39200     2.514000      179.890000    456.000000\n",
       "std     288.819436    13.68143     1.132734      189.681356    559.997632\n",
       "min       0.000000    18.00000     1.000000       25.000000     25.000000\n",
       "25%     249.750000    29.00000     1.000000       30.000000     60.000000\n",
       "50%     499.500000    42.00000     3.000000       50.000000    135.000000\n",
       "75%     749.250000    53.00000     4.000000      300.000000    900.000000\n",
       "max     999.000000    64.00000     4.000000      500.000000   2000.000000"
      ]
     },
     "execution_count": 15,
     "metadata": {},
     "output_type": "execute_result"
    }
   ],
   "source": [
    "# Print summary statistics\n",
    "df.describe()"
   ]
  },
  {
   "cell_type": "code",
   "execution_count": 18,
   "id": "775b6eb1-dd03-4c7d-8fe3-47100c4b54fd",
   "metadata": {},
   "outputs": [
    {
     "data": {
      "text/plain": [
       "(1000, 8)"
      ]
     },
     "execution_count": 18,
     "metadata": {},
     "output_type": "execute_result"
    }
   ],
   "source": [
    "#listing the data shape\n",
    "df.shape"
   ]
  },
  {
   "cell_type": "code",
   "execution_count": 19,
   "id": "67243a1d-122c-4f7e-87cf-b516b9a4bc29",
   "metadata": {},
   "outputs": [
    {
     "name": "stdout",
     "output_type": "stream",
     "text": [
      "<class 'pandas.core.frame.DataFrame'>\n",
      "RangeIndex: 1000 entries, 0 to 999\n",
      "Data columns (total 8 columns):\n",
      " #   Column            Non-Null Count  Dtype \n",
      "---  ------            --------------  ----- \n",
      " 0   Unnamed: 0        1000 non-null   int64 \n",
      " 1   Date              1000 non-null   object\n",
      " 2   Gender            1000 non-null   object\n",
      " 3   Age               1000 non-null   int64 \n",
      " 4   Product Category  1000 non-null   object\n",
      " 5   Quantity          1000 non-null   int64 \n",
      " 6   Price per Unit    1000 non-null   int64 \n",
      " 7   Total Amount      1000 non-null   int64 \n",
      "dtypes: int64(5), object(3)\n",
      "memory usage: 62.6+ KB\n"
     ]
    }
   ],
   "source": [
    "# the complete information about the data\n",
    "df.info()"
   ]
  },
  {
   "cell_type": "code",
   "execution_count": 20,
   "id": "4ece22b1-f1c4-4261-8dcb-fbd96427470e",
   "metadata": {},
   "outputs": [
    {
     "data": {
      "text/plain": [
       "Index(['Unnamed: 0', 'Date', 'Gender', 'Age', 'Product Category', 'Quantity',\n",
       "       'Price per Unit', 'Total Amount'],\n",
       "      dtype='object')"
      ]
     },
     "execution_count": 20,
     "metadata": {},
     "output_type": "execute_result"
    }
   ],
   "source": [
    "#columns name\n",
    "df.columns"
   ]
  },
  {
   "cell_type": "markdown",
   "id": "fb2a8e46-1fe1-4e6b-9f0a-9d40e36577ce",
   "metadata": {},
   "source": [
    "### Data cleaning process\n",
    "The following section outlines the process for cleaning the dataset to ensure it is ready for analysis."
   ]
  },
  {
   "cell_type": "code",
   "execution_count": 28,
   "id": "6d3ef3ab-7aed-4d2c-a4b5-4ae5351a64aa",
   "metadata": {},
   "outputs": [
    {
     "name": "stdout",
     "output_type": "stream",
     "text": [
      "<class 'pandas.core.frame.DataFrame'>\n",
      "RangeIndex: 1000 entries, 0 to 999\n",
      "Data columns (total 7 columns):\n",
      " #   Column            Non-Null Count  Dtype         \n",
      "---  ------            --------------  -----         \n",
      " 0   Date              1000 non-null   datetime64[ns]\n",
      " 1   Gender            1000 non-null   object        \n",
      " 2   Age               1000 non-null   int64         \n",
      " 3   Product Category  1000 non-null   object        \n",
      " 4   Quantity          1000 non-null   int64         \n",
      " 5   Price per Unit    1000 non-null   int64         \n",
      " 6   Total Amount      1000 non-null   int64         \n",
      "dtypes: datetime64[ns](1), int64(4), object(2)\n",
      "memory usage: 54.8+ KB\n"
     ]
    }
   ],
   "source": [
    "# Don't need the first column\n",
    "df = df.drop('Unnamed: 0', axis = 1)\n",
    "# Transform date format\n",
    "df['Date'] = pd.to_datetime(df['Date'])\n",
    "df.info()"
   ]
  },
  {
   "cell_type": "code",
   "execution_count": 30,
   "id": "cfb8949f-9453-44c1-a5a0-c9aa8bac915f",
   "metadata": {},
   "outputs": [
    {
     "data": {
      "text/html": [
       "<div>\n",
       "<style scoped>\n",
       "    .dataframe tbody tr th:only-of-type {\n",
       "        vertical-align: middle;\n",
       "    }\n",
       "\n",
       "    .dataframe tbody tr th {\n",
       "        vertical-align: top;\n",
       "    }\n",
       "\n",
       "    .dataframe thead th {\n",
       "        text-align: right;\n",
       "    }\n",
       "</style>\n",
       "<table border=\"1\" class=\"dataframe\">\n",
       "  <thead>\n",
       "    <tr style=\"text-align: right;\">\n",
       "      <th></th>\n",
       "      <th>Date</th>\n",
       "      <th>Gender</th>\n",
       "      <th>Age</th>\n",
       "      <th>Product Category</th>\n",
       "      <th>Quantity</th>\n",
       "      <th>Price per Unit</th>\n",
       "      <th>Total Amount</th>\n",
       "    </tr>\n",
       "  </thead>\n",
       "  <tbody>\n",
       "    <tr>\n",
       "      <th>0</th>\n",
       "      <td>2023-11-24</td>\n",
       "      <td>Male</td>\n",
       "      <td>26-35</td>\n",
       "      <td>Beauty</td>\n",
       "      <td>3</td>\n",
       "      <td>50</td>\n",
       "      <td>150</td>\n",
       "    </tr>\n",
       "    <tr>\n",
       "      <th>1</th>\n",
       "      <td>2023-02-27</td>\n",
       "      <td>Female</td>\n",
       "      <td>26-35</td>\n",
       "      <td>Clothing</td>\n",
       "      <td>2</td>\n",
       "      <td>500</td>\n",
       "      <td>1000</td>\n",
       "    </tr>\n",
       "    <tr>\n",
       "      <th>2</th>\n",
       "      <td>2023-01-13</td>\n",
       "      <td>Male</td>\n",
       "      <td>46-55</td>\n",
       "      <td>Electronics</td>\n",
       "      <td>1</td>\n",
       "      <td>30</td>\n",
       "      <td>30</td>\n",
       "    </tr>\n",
       "    <tr>\n",
       "      <th>3</th>\n",
       "      <td>2023-05-21</td>\n",
       "      <td>Male</td>\n",
       "      <td>36-45</td>\n",
       "      <td>Clothing</td>\n",
       "      <td>1</td>\n",
       "      <td>500</td>\n",
       "      <td>500</td>\n",
       "    </tr>\n",
       "    <tr>\n",
       "      <th>4</th>\n",
       "      <td>2023-05-06</td>\n",
       "      <td>Male</td>\n",
       "      <td>26-35</td>\n",
       "      <td>Beauty</td>\n",
       "      <td>2</td>\n",
       "      <td>50</td>\n",
       "      <td>100</td>\n",
       "    </tr>\n",
       "  </tbody>\n",
       "</table>\n",
       "</div>"
      ],
      "text/plain": [
       "        Date  Gender    Age Product Category  Quantity  Price per Unit  \\\n",
       "0 2023-11-24    Male  26-35           Beauty         3              50   \n",
       "1 2023-02-27  Female  26-35         Clothing         2             500   \n",
       "2 2023-01-13    Male  46-55      Electronics         1              30   \n",
       "3 2023-05-21    Male  36-45         Clothing         1             500   \n",
       "4 2023-05-06    Male  26-35           Beauty         2              50   \n",
       "\n",
       "   Total Amount  \n",
       "0           150  \n",
       "1          1000  \n",
       "2            30  \n",
       "3           500  \n",
       "4           100  "
      ]
     },
     "execution_count": 30,
     "metadata": {},
     "output_type": "execute_result"
    }
   ],
   "source": [
    "# Segment the ages\n",
    "bins = [17, 25, 35, 45, 55, 65]\n",
    "labels = ['18-25', '26-35', '36-45', '46-55', '56-64']\n",
    "df['Age'] = pd.cut(df['Age'],bins = bins, labels = labels, right = True)\n",
    "df.head()"
   ]
  },
  {
   "cell_type": "markdown",
   "id": "667fded6-2ab1-4112-a43c-4a56c40d3465",
   "metadata": {},
   "source": [
    "#### Conclusions from data cleaning\n",
    "\n",
    "After completing the data cleaning steps, the following key changes and observations were made:\n",
    "\n",
    "- No missing values were found in the dataset.\n",
    "- No duplicate records were detected.\n",
    "- The first column was removed, as it only contained entry numbers and no relevant information.\n",
    "- The Date column was successfully converted from object type to datetime format for better time-based analysis.\n",
    "- The age variable was segmented into defined age groups to allow for a more structured and meaningful analysis of customer demographics."
   ]
  },
  {
   "cell_type": "code",
   "execution_count": 22,
   "id": "2379d6a9-df1c-4679-aa9c-eab340855d8b",
   "metadata": {},
   "outputs": [
    {
     "name": "stdout",
     "output_type": "stream",
     "text": [
      "0\n",
      "0\n"
     ]
    }
   ],
   "source": [
    "#Checking Null \n",
    "# Import numpy\n",
    "import numpy as np\n",
    "\n",
    "# Inspect missing values in the dataset\n",
    "print(df.isnull().values.sum())\n",
    "\n",
    "# Replace the ' 's with NaN\n",
    "df = df.replace(\" \",np.nan)\n",
    "\n",
    "# Count the number of NaNs in the dataset to verify\n",
    "print(df.isnull().values.sum())"
   ]
  },
  {
   "cell_type": "markdown",
   "id": "c3ad4777-8fd3-4df1-9a8b-c24c2fd98713",
   "metadata": {},
   "source": [
    "- Dataset contains 1000 records with 7 features\n",
    "- Memory usages if 62.6 KB whish is easy to process on local machine\n",
    "- The data seems to be clean with zero missing values\n",
    "- 4 columns are int64 and rest 3 are object\n",
    "\n",
    "Now we will be creating the copy of data so that we avoid the mistake of modifying the data\n",
    "\n",
    "The thus created data will mapped with naming convention so that we can easily visualize it:\n",
    "\n",
    "- 0: 'Male'\n",
    "- 1: 'Female'"
   ]
  },
  {
   "cell_type": "code",
   "execution_count": 34,
   "id": "307079de-9f59-4367-8f8e-c59e78e62cb9",
   "metadata": {},
   "outputs": [],
   "source": [
    "# Create a copy of the DataFrame to avoid modifying the original data\n",
    "df_copy = df.copy()\n",
    "\n",
    "# # Rename values in the 'Result' column just for the plot\n",
    "# df_copy['Result'] = df_copy['Result'].replace({0: 'Non Anemic', 1: 'Anemic'})\n",
    "# Rename values in the 'Gender' column\n",
    "df_copy['Gender'] = df_copy['Gender'].replace({0: 'Male', 1: 'Female'})\n",
    "\n",
    "# Define custom hex colors\n",
    "custom_colors = ['#B43757', '#a37b85']\n",
    "custom_colors_gender = ['#90ADC6', '#C6A990']"
   ]
  },
  {
   "cell_type": "code",
   "execution_count": 27,
   "id": "93cc9af6-e6a3-40ed-933e-4f041f5dd423",
   "metadata": {},
   "outputs": [
    {
     "data": {
      "image/png": "[encoded data removed]",
      "text/plain": [
       "<Figure size 640x480 with 1 Axes>"
      ]
     },
     "metadata": {},
     "output_type": "display_data"
    }
   ],
   "source": [
    "result_counts = df_copy['Gender'].value_counts()\n",
    "plt.pie(result_counts, labels=result_counts.index, autopct='%1.1f%%', colors=custom_colors_gender, shadow=True)\n",
    "plt.title('Gender distribution  ')\n",
    "plt.show()"
   ]
  },
  {
   "cell_type": "markdown",
   "id": "f5f6765e-30a1-4541-b7bc-7bb9c2ab5d84",
   "metadata": {},
   "source": [
    "#### Analyze\n",
    "In this section, key statistics and patterns within the dataset are explored to gain meaningful insights. The goal is to understand trends in customer behavior, product performance, and sales dynamics through summary metrics."
   ]
  },
  {
   "cell_type": "code",
   "execution_count": 35,
   "id": "0f7c7493-8ae2-47db-92a3-01cf21f07a7b",
   "metadata": {},
   "outputs": [
    {
     "name": "stdout",
     "output_type": "stream",
     "text": [
      "Sales by quantity:\n",
      "Product Category\n",
      "Clothing       894\n",
      "Electronics    849\n",
      "Beauty         771\n",
      "Name: Quantity, dtype: int64\n",
      "\n",
      "Sales by revenue:\n",
      "Product Category\n",
      "Electronics    156905\n",
      "Clothing       155580\n",
      "Beauty         143515\n",
      "Name: Total Amount, dtype: int64\n"
     ]
    }
   ],
   "source": [
    "# About the sales\n",
    "print(\"Sales by quantity:\")\n",
    "print(df.groupby('Product Category')['Quantity'].sum().sort_values(ascending=False))\n",
    "print(\"\\nSales by revenue:\")\n",
    "print(df.groupby('Product Category')['Total Amount'].sum().sort_values(ascending=False))"
   ]
  },
  {
   "cell_type": "code",
   "execution_count": null,
   "id": "957bab34-e1f1-42da-a805-840a4cbdb9f0",
   "metadata": {},
   "outputs": [],
   "source": []
  },
  {
   "cell_type": "markdown",
   "id": "2508ae83-b2dc-44d6-936f-2d44eb60b997",
   "metadata": {},
   "source": [
    "We can see that there is not much difference between the sales of the categories, neither in quantity nor in sales."
   ]
  },
  {
   "cell_type": "code",
   "execution_count": 36,
   "id": "6100dbee-0a8c-42de-a465-ddcf235125ee",
   "metadata": {},
   "outputs": [
    {
     "name": "stdout",
     "output_type": "stream",
     "text": [
      "Sales by quantity per month:\n",
      "Month\n",
      "5     259\n",
      "10    252\n",
      "8     227\n",
      "2     214\n",
      "4     214\n",
      "12    207\n",
      "11    205\n",
      "1     199\n",
      "6     197\n",
      "3     194\n",
      "7     176\n",
      "9     170\n",
      "Name: Quantity, dtype: int64\n",
      "\n",
      "Sales by revenue per month:\n",
      "Month\n",
      "5     53150\n",
      "10    46580\n",
      "12    44690\n",
      "2     44060\n",
      "1     36980\n",
      "8     36960\n",
      "6     36715\n",
      "7     35465\n",
      "11    34920\n",
      "4     33870\n",
      "3     28990\n",
      "9     23620\n",
      "Name: Total Amount, dtype: int64\n",
      "\n",
      "Sales by month and category\n",
      "Month  Product Category\n",
      "1      Beauty               62\n",
      "       Clothing             72\n",
      "       Electronics          65\n",
      "2      Beauty               68\n",
      "       Clothing             75\n",
      "       Electronics          71\n",
      "3      Beauty               51\n",
      "       Clothing            111\n",
      "       Electronics          32\n",
      "4      Beauty               69\n",
      "       Clothing             93\n",
      "       Electronics          52\n",
      "5      Beauty               65\n",
      "       Clothing             97\n",
      "       Electronics          97\n",
      "6      Beauty               66\n",
      "       Clothing             67\n",
      "       Electronics          64\n",
      "7      Beauty               70\n",
      "       Clothing             45\n",
      "       Electronics          61\n",
      "8      Beauty               62\n",
      "       Clothing             78\n",
      "       Electronics          87\n",
      "9      Beauty               50\n",
      "       Clothing             60\n",
      "       Electronics          60\n",
      "10     Beauty               83\n",
      "       Clothing             74\n",
      "       Electronics          95\n",
      "11     Beauty               63\n",
      "       Clothing             69\n",
      "       Electronics          73\n",
      "12     Beauty               62\n",
      "       Clothing             53\n",
      "       Electronics          92\n",
      "Name: Quantity, dtype: int64\n"
     ]
    }
   ],
   "source": [
    "# Regarding the dates\n",
    "df['Month'] = df['Date'].dt.month\n",
    "print(\"Sales by quantity per month:\")\n",
    "print(df.groupby('Month')['Quantity'].sum().sort_values(ascending = False))\n",
    "print(\"\\nSales by revenue per month:\")\n",
    "print(df.groupby('Month')['Total Amount'].sum().sort_values(ascending = False))\n",
    "print(\"\\nSales by month and category\")\n",
    "print(df.groupby(['Month', 'Product Category'])['Quantity'].sum())"
   ]
  },
  {
   "cell_type": "code",
   "execution_count": null,
   "id": "a0cfc23a-15a0-444f-974d-5fddc3919757",
   "metadata": {},
   "outputs": [],
   "source": []
  },
  {
   "cell_type": "markdown",
   "id": "b060b2cb-4f87-4459-aee2-05dbb574b7e2",
   "metadata": {},
   "source": [
    "There is quite a difference in sales between the months. And there are types of products that sell more or less depending on the month."
   ]
  },
  {
   "cell_type": "code",
   "execution_count": 38,
   "id": "5bfe25b9-7c70-432b-9341-492e9fcb954d",
   "metadata": {},
   "outputs": [
    {
     "name": "stdout",
     "output_type": "stream",
     "text": [
      "Sales quantity by gender:\n",
      "Gender\n",
      "Female    1298\n",
      "Male      1216\n",
      "Name: Quantity, dtype: int64\n",
      "\n",
      "Sales revenue by gender:\n",
      "Gender\n",
      "Female    232840\n",
      "Male      223160\n",
      "Name: Total Amount, dtype: int64\n",
      "Sales quantity by gender and product category:\n",
      "Gender  Product Category\n",
      "Female  Beauty              418\n",
      "        Clothing            441\n",
      "        Electronics         439\n",
      "Male    Beauty              353\n",
      "        Clothing            453\n",
      "        Electronics         410\n",
      "Name: Quantity, dtype: int64\n"
     ]
    }
   ],
   "source": [
    "# By gender \n",
    "print(\"Sales quantity by gender:\")\n",
    "print(df.groupby('Gender')['Quantity'].sum())\n",
    "print(\"\\nSales revenue by gender:\")\n",
    "print(df.groupby('Gender')['Total Amount'].sum())\n",
    "print(\"Sales quantity by gender and product category:\")\n",
    "print(df.groupby(['Gender', 'Product Category'])['Quantity'].sum())"
   ]
  },
  {
   "cell_type": "code",
   "execution_count": null,
   "id": "e1d40c99-e49f-4937-801a-82ae7ef92c4a",
   "metadata": {},
   "outputs": [],
   "source": []
  },
  {
   "cell_type": "markdown",
   "id": "c777e58c-3e2c-46ce-920e-f64b3e9980bc",
   "metadata": {},
   "source": [
    "We can see that male users have less interest in beauty products."
   ]
  },
  {
   "cell_type": "code",
   "execution_count": null,
   "id": "5559b44e-702d-4d23-8db7-d2b58752305e",
   "metadata": {},
   "outputs": [],
   "source": []
  }
 ],
 "metadata": {
  "kernelspec": {
   "display_name": "Python 3 (ipykernel)",
   "language": "python",
   "name": "python3"
  },
  "language_info": {
   "codemirror_mode": {
    "name": "ipython",
    "version": 3
   },
   "file_extension": ".py",
   "mimetype": "text/x-python",
   "name": "python",
   "nbconvert_exporter": "python",
   "pygments_lexer": "ipython3",
   "version": "3.13.2"
  }
 },
 "nbformat": 4,
 "nbformat_minor": 5
}
