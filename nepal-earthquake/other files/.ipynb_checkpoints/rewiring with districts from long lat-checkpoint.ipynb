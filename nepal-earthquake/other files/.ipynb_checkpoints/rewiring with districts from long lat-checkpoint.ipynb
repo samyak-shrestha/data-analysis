{
 "cells": [
  {
   "cell_type": "code",
   "execution_count": 18,
   "id": "645daaba-f4b3-4a24-8e93-0a2a5ede6e62",
   "metadata": {},
   "outputs": [
    {
     "name": "stdout",
     "output_type": "stream",
     "text": [
      "✅ Saved with inferred districts!\n"
     ]
    }
   ],
   "source": [
    "import pandas as pd\n",
    "import geopandas as gpd\n",
    "from shapely.geometry import Point\n",
    "\n",
    "# Load earthquake data\n",
    "df = pd.read_csv(\"data/earthquake_data_nepal.csv\")\n",
    "\n",
    "# Create geometry points from lat/lon\n",
    "geometry = [Point(xy) for xy in zip(df['Longitude'], df['Latitude'])]\n",
    "gdf_quakes = gpd.GeoDataFrame(df, geometry=geometry, crs=\"EPSG:4326\")\n",
    "\n",
    "# Load shapefile and match CRS\n",
    "gdf_districts = gpd.read_file(\"data/district-list/local_unit.shp\")\n",
    "gdf_districts = gdf_districts.to_crs(\"EPSG:4326\")\n",
    "\n",
    "# Spatial join\n",
    "gdf_joined = gpd.sjoin(gdf_quakes, gdf_districts, how=\"left\", predicate='intersects')\n",
    "\n",
    "# Assign inferred district name from 'shapeName'\n",
    "df['Inferred_District'] = gdf_joined['DISTRICT']\n",
    "\n",
    "# Save final data\n",
    "df.to_csv(\"data/earthquakes_with_districts.csv\", index=False)\n",
    "print(\"✅ Saved with inferred districts!\")\n"
   ]
  },
  {
   "cell_type": "code",
   "execution_count": 15,
   "id": "b2288fff-10e7-4126-a3a6-70b93253d720",
   "metadata": {},
   "outputs": [
    {
     "name": "stdout",
     "output_type": "stream",
     "text": [
      "   STATE_CODE   DISTRICT        GaPa_NaPa     Type_GN Province  \\\n",
      "0           1  TAPLEJUNG  Aathrai Tribeni  Gaunpalika        1   \n",
      "1           1  TAPLEJUNG       Maiwakhola  Gaunpalika        1   \n",
      "2           1  TAPLEJUNG        Meringden  Gaunpalika        1   \n",
      "3           1  TAPLEJUNG       Mikwakhola  Gaunpalika        1   \n",
      "4           1  TAPLEJUNG     Phaktanglung  Gaunpalika        1   \n",
      "\n",
      "                                            geometry  \n",
      "0  POLYGON ((87.60985 27.37043, 87.61107 27.36943...  \n",
      "1  POLYGON ((87.50402 27.42901, 87.50672 27.42831...  \n",
      "2  POLYGON ((87.51272 27.56894, 87.51255 27.56859...  \n",
      "3  POLYGON ((87.6885 27.70975, 87.68891 27.70938,...  \n",
      "4  POLYGON ((87.83673 27.95137, 87.83735 27.95119...  \n"
     ]
    }
   ],
   "source": [
    "import geopandas as gpd\n",
    "\n",
    "# Load your shapefile\n",
    "# gdf_districts = gpd.read_file(\"data/geoBoundaries-NPL-ADM3.shp\")\n",
    "gdf_districts = gpd.read_file(\"data/district-list/local_unit.shp\")\n",
    "\n",
    "# View available columns\n",
    "# print(gdf_districts.columns)\n",
    "\n",
    "print(gdf_districts.head())\n",
    "\n",
    "\n",
    "# # View available columns\n",
    "# print(gdf_districts2.columns)\n"
   ]
  },
  {
   "cell_type": "code",
   "execution_count": null,
   "id": "97faf5c0-1b17-4b04-a5f9-02ae823d9dce",
   "metadata": {},
   "outputs": [],
   "source": []
  }
 ],
 "metadata": {
  "kernelspec": {
   "display_name": "Python 3 (ipykernel)",
   "language": "python",
   "name": "python3"
  },
  "language_info": {
   "codemirror_mode": {
    "name": "ipython",
    "version": 3
   },
   "file_extension": ".py",
   "mimetype": "text/x-python",
   "name": "python",
   "nbconvert_exporter": "python",
   "pygments_lexer": "ipython3",
   "version": "3.13.2"
  }
 },
 "nbformat": 4,
 "nbformat_minor": 5
}
