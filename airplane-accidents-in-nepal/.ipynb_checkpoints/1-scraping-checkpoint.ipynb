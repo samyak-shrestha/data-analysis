{
 "cells": [
  {
   "cell_type": "code",
   "execution_count": 10,
   "id": "04ff762e-ddd1-4359-a74b-d86d27bb8212",
   "metadata": {},
   "outputs": [],
   "source": [
    "import requests\n",
    "from bs4 import BeautifulSoup\n",
    "from io import StringIO\n",
    "import pandas as pd\n",
    "\n",
    "# Fetch the Web Page\n",
    "url = \"https://en.wikipedia.org/wiki/List_of_airplane_accidents_in_Nepal\"\n",
    "response = requests.get(url)\n",
    "\n",
    "# Parse the HTML Content\n",
    "soup = BeautifulSoup(response.content, \"html.parser\")\n",
    "\n",
    "# Identify and Extract Tables\n",
    "tables = soup.find_all(\"table\", {\"class\": \"wikitable\"})\n",
    "\n",
    "# print(tables)\n",
    "\n",
    "# Convert Tables to DataFrames\n",
    "dataframes = []\n",
    "for table in tables:\n",
    "    table_str = StringIO(str(table))\n",
    "    df = pd.read_html(table_str)[0]\n",
    "    dataframes.append(df)\n",
    "\n",
    "# Assign Meaningful Names\n",
    "foreign_accidents = dataframes[0]\n",
    "domestic_accidents = dataframes[1]\n",
    "helicopter_accidents = dataframes[2]\n",
    "\n",
    "# Clean and Structure the Data\n",
    "foreign_accidents.columns = [\"Date\", \"Type_of_Aircraft\", \"Operator\", \"Place\", \"Fatality\", \"Detail link\", \"References\"]\n",
    "domestic_accidents.columns = [\"Date\", \"Type_of_Aircraft\", \"Operator\", \"Place\", \"Fatality\", \"Detail link\", \"References\"]\n",
    "helicopter_accidents.columns = [\"Date\", \"Type_of_Aircraft\", \"Operator\", \"Place\", \"Fatality\", \"Detail link\", \"References\"]\n",
    "\n",
    "# Save the uncleaned Data\n",
    "foreign_accidents.to_csv(\"uncleaned_data/foreign_accidents.csv\", index=False)\n",
    "domestic_accidents.to_csv(\"uncleaned_data/domestic_accidents.csv\", index=False)\n",
    "helicopter_accidents.to_csv(\"uncleaned_data/helicopter_accidents.csv\", index=False)"
   ]
  },
  {
   "cell_type": "code",
   "execution_count": null,
   "id": "a73e5b6b-162a-4963-a489-fa1a1329386c",
   "metadata": {},
   "outputs": [],
   "source": []
  },
  {
   "cell_type": "code",
   "execution_count": null,
   "id": "45814975-ce09-4cf4-829f-26d31a67dafc",
   "metadata": {},
   "outputs": [],
   "source": []
  },
  {
   "cell_type": "code",
   "execution_count": null,
   "id": "830d778b-89d0-483d-b9e5-5969edb0eab0",
   "metadata": {},
   "outputs": [],
   "source": []
  },
  {
   "cell_type": "code",
   "execution_count": null,
   "id": "ece5dbd9-5151-44b7-bde5-4c601848877d",
   "metadata": {},
   "outputs": [],
   "source": []
  },
  {
   "cell_type": "code",
   "execution_count": null,
   "id": "6c1bf482-484b-4253-bb8f-b245430980c6",
   "metadata": {},
   "outputs": [],
   "source": []
  },
  {
   "cell_type": "code",
   "execution_count": null,
   "id": "f8876168-f971-4b66-bc8d-04c2c3382940",
   "metadata": {},
   "outputs": [],
   "source": []
  },
  {
   "cell_type": "code",
   "execution_count": null,
   "id": "12fe182d-6015-4efb-9ff2-f629e93277cc",
   "metadata": {},
   "outputs": [],
   "source": []
  },
  {
   "cell_type": "code",
   "execution_count": null,
   "id": "196f53d8-5a4a-46d2-af4c-d745ace0b247",
   "metadata": {},
   "outputs": [],
   "source": []
  },
  {
   "cell_type": "code",
   "execution_count": null,
   "id": "f0606302-f786-4ab7-9967-02c064772c6d",
   "metadata": {},
   "outputs": [],
   "source": []
  },
  {
   "cell_type": "code",
   "execution_count": null,
   "id": "d34a1585-b43c-4757-a580-eb6e5b6b5c31",
   "metadata": {},
   "outputs": [],
   "source": []
  },
  {
   "cell_type": "code",
   "execution_count": null,
   "id": "f357cd1b-ba9d-4007-81e9-e9deff7f1335",
   "metadata": {},
   "outputs": [],
   "source": []
  },
  {
   "cell_type": "code",
   "execution_count": null,
   "id": "74ddb404-e006-4712-87c9-b61bd751c469",
   "metadata": {},
   "outputs": [],
   "source": []
  },
  {
   "cell_type": "code",
   "execution_count": null,
   "id": "9a2c8111-cc54-4042-aa8e-ea52a7ff01a4",
   "metadata": {},
   "outputs": [],
   "source": []
  },
  {
   "cell_type": "code",
   "execution_count": null,
   "id": "0ba3973e-9808-4d7f-9dc7-8e500b229218",
   "metadata": {},
   "outputs": [],
   "source": []
  }
 ],
 "metadata": {
  "kernelspec": {
   "display_name": "Python 3 (ipykernel)",
   "language": "python",
   "name": "python3"
  },
  "language_info": {
   "codemirror_mode": {
    "name": "ipython",
    "version": 3
   },
   "file_extension": ".py",
   "mimetype": "text/x-python",
   "name": "python",
   "nbconvert_exporter": "python",
   "pygments_lexer": "ipython3",
   "version": "3.10.12"
  }
 },
 "nbformat": 4,
 "nbformat_minor": 5
}
