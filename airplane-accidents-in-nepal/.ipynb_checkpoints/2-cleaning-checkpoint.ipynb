{
 "cells": [
  {
   "cell_type": "code",
   "execution_count": 101,
   "id": "a05fda2b-0db2-477e-ab42-d88a2ff965e7",
   "metadata": {},
   "outputs": [],
   "source": [
    "import pandas as pd"
   ]
  },
  {
   "cell_type": "code",
   "execution_count": 136,
   "id": "da05bf64-fdb2-449e-93d6-b1c8b26a89d1",
   "metadata": {
    "scrolled": true
   },
   "outputs": [
    {
     "name": "stdout",
     "output_type": "stream",
     "text": [
      "<class 'pandas.core.frame.DataFrame'>\n",
      "RangeIndex: 60 entries, 0 to 59\n",
      "Data columns (total 6 columns):\n",
      " #   Column            Non-Null Count  Dtype         \n",
      "---  ------            --------------  -----         \n",
      " 0   Date              60 non-null     datetime64[ns]\n",
      " 1   Type of Aircraft  60 non-null     object        \n",
      " 2   Operator          60 non-null     object        \n",
      " 3   Place             60 non-null     object        \n",
      " 4   Fatality          60 non-null     int64         \n",
      " 5   Type              60 non-null     object        \n",
      "dtypes: datetime64[ns](1), int64(1), object(4)\n",
      "memory usage: 2.9+ KB\n",
      "None\n"
     ]
    }
   ],
   "source": [
    "# Load data\n",
    "domestic_accidents = pd.read_csv('domestic_accidents.csv')\n",
    "\n",
    "# Display information and preview\n",
    "# print(domestic_accidents.info())\n",
    "# print(domestic_accidents.head())\n",
    "# print(domestic_accidents.describe())\n",
    "\n",
    "# Drop unnecessary columns\n",
    "domestic_accidents = domestic_accidents.drop(columns=['Detail link', 'References'])\n",
    "\n",
    "# problematic_dates = domestic_accidents[domestic_accidents['Date'].isnull()]\n",
    "# print(problematic_dates)\n",
    "\n",
    "# Strip extra spaces\n",
    "domestic_accidents['Date'] = domestic_accidents['Date'].str.strip()\n",
    "# Replace non-date entries with NaN or a placeholder\n",
    "domestic_accidents['Date'] = domestic_accidents['Date'].replace(['invalid', 'unknown'], pd.NA)\n",
    "domestic_accidents['Date'] = pd.to_datetime(domestic_accidents['Date'], errors='coerce')\n",
    "\n",
    "# 2. Ensure \"Fatality\" is numeric (it likely already is, but this confirms)\n",
    "domestic_accidents['Fatality'] = pd.to_numeric(domestic_accidents['Fatality'])\n",
    "# 3. Clean \"Place\" column (example: convert to lowercase, remove extra spaces)\n",
    "domestic_accidents['Place'] = domestic_accidents['Place'].str.lower().str.strip() \n",
    "# Remove punctuation and special characters\n",
    "domestic_accidents['Place'] = domestic_accidents['Place'].str.replace(r'[^\\w\\s]', '', regex=True) \n",
    "# # Convert the 'Type of Aircraft' column to string\n",
    "domestic_accidents['Type of Aircraft'] = domestic_accidents['Type of Aircraft'].astype(str)\n",
    "# # Convert the 'Operator' column to string\n",
    "domestic_accidents['Operator'] = domestic_accidents['Operator'].astype(str)\n",
    "# adding type\n",
    "domestic_accidents['Type'] = 'domestic'\n",
    "\n",
    "\n",
    "# Check for missing values\n",
    "# print(domestic_accidents.isnull().sum())\n",
    "\n",
    "# # Inspect the DataFrame after conversion\n",
    "print(domestic_accidents.info())\n"
   ]
  },
  {
   "cell_type": "code",
   "execution_count": null,
   "id": "873c4666-6ca7-4321-8322-c16b5467f5e1",
   "metadata": {},
   "outputs": [],
   "source": []
  },
  {
   "cell_type": "code",
   "execution_count": 138,
   "id": "0595fc9f-b1c0-4e29-ae4a-d2c964de79a5",
   "metadata": {
    "scrolled": true
   },
   "outputs": [
    {
     "name": "stdout",
     "output_type": "stream",
     "text": [
      "<class 'pandas.core.frame.DataFrame'>\n",
      "RangeIndex: 7 entries, 0 to 6\n",
      "Data columns (total 6 columns):\n",
      " #   Column            Non-Null Count  Dtype         \n",
      "---  ------            --------------  -----         \n",
      " 0   Date              7 non-null      datetime64[ns]\n",
      " 1   Type of Aircraft  7 non-null      object        \n",
      " 2   Operator          7 non-null      object        \n",
      " 3   Place             7 non-null      object        \n",
      " 4   Fatality          7 non-null      int64         \n",
      " 5   Type              7 non-null      object        \n",
      "dtypes: datetime64[ns](1), int64(1), object(4)\n",
      "memory usage: 464.0+ bytes\n",
      "None\n"
     ]
    }
   ],
   "source": [
    "foreign_accidents = pd.read_csv('foreign_accidents.csv')\n",
    "\n",
    "# Drop unnecessary columns\n",
    "foreign_accidents = foreign_accidents.drop(columns=['Detail link', 'References'])\n",
    "\n",
    "# problematic_dates = foreign_accidents[foreign_accidents['Date'].isnull()]\n",
    "# print(problematic_dates)\n",
    "\n",
    "# Strip extra spaces\n",
    "foreign_accidents['Date'] = foreign_accidents['Date'].str.strip()\n",
    "# Replace non-date entries with NaN or a placeholder\n",
    "foreign_accidents['Date'] = foreign_accidents['Date'].replace(['invalid', 'unknown'], pd.NA)\n",
    "foreign_accidents['Date'] = pd.to_datetime(foreign_accidents['Date'], errors='coerce')\n",
    "\n",
    "# 2. Ensure \"Fatality\" is numeric (it likely already is, but this confirms)\n",
    "foreign_accidents['Fatality'] = pd.to_numeric(foreign_accidents['Fatality'])\n",
    "# 3. Clean \"Place\" column (example: convert to lowercase, remove extra spaces)\n",
    "foreign_accidents['Place'] = foreign_accidents['Place'].str.lower().str.strip() \n",
    "# Remove punctuation and special characters\n",
    "foreign_accidents['Place'] = foreign_accidents['Place'].str.replace(r'[^\\w\\s]', '', regex=True) \n",
    "# # Convert the 'Type of Aircraft' column to string\n",
    "foreign_accidents['Type of Aircraft'] = foreign_accidents['Type of Aircraft'].astype(str)\n",
    "# # Convert the 'Operator' column to string\n",
    "foreign_accidents['Operator'] = foreign_accidents['Operator'].astype(str)\n",
    "# adding type\n",
    "foreign_accidents['Type'] = 'foreign'\n",
    "\n",
    "# Check for missing values\n",
    "# print(foreign_accidents.isnull().sum())\n",
    "\n",
    "# # Inspect the DataFrame after conversion\n",
    "print(foreign_accidents.info())"
   ]
  },
  {
   "cell_type": "code",
   "execution_count": null,
   "id": "e78e99cc-237c-41c6-9412-aa7012adf4d9",
   "metadata": {},
   "outputs": [],
   "source": []
  },
  {
   "cell_type": "code",
   "execution_count": 139,
   "id": "99b08939-ae49-4686-8b56-d6be9416cfcd",
   "metadata": {},
   "outputs": [
    {
     "name": "stdout",
     "output_type": "stream",
     "text": [
      "<class 'pandas.core.frame.DataFrame'>\n",
      "RangeIndex: 35 entries, 0 to 34\n",
      "Data columns (total 6 columns):\n",
      " #   Column            Non-Null Count  Dtype         \n",
      "---  ------            --------------  -----         \n",
      " 0   Date              35 non-null     datetime64[ns]\n",
      " 1   Type of Aircraft  35 non-null     object        \n",
      " 2   Operator          35 non-null     object        \n",
      " 3   Place             35 non-null     object        \n",
      " 4   Fatality          34 non-null     float64       \n",
      " 5   Type              35 non-null     object        \n",
      "dtypes: datetime64[ns](1), float64(1), object(4)\n",
      "memory usage: 1.8+ KB\n",
      "None\n"
     ]
    }
   ],
   "source": [
    "helicopter_accidents = pd.read_csv('helicopter_accidents.csv')\n",
    "\n",
    "\n",
    "# Drop unnecessary columns\n",
    "helicopter_accidents = helicopter_accidents.drop(columns=['Detail link', 'References'])\n",
    "\n",
    "# problematic_dates = helicopter_accidents[helicopter_accidents['Date'].isnull()]\n",
    "# print(problematic_dates)\n",
    "\n",
    "# Strip extra spaces\n",
    "helicopter_accidents['Date'] = helicopter_accidents['Date'].str.strip()\n",
    "# Replace non-date entries with NaN or a placeholder\n",
    "helicopter_accidents['Date'] = helicopter_accidents['Date'].replace(['invalid', 'unknown'], pd.NA)\n",
    "helicopter_accidents['Date'] = pd.to_datetime(helicopter_accidents['Date'], errors='coerce')\n",
    "\n",
    "# 2. Ensure \"Fatality\" is numeric (it likely already is, but this confirms)\n",
    "helicopter_accidents['Fatality'] = pd.to_numeric(helicopter_accidents['Fatality'])\n",
    "# 3. Clean \"Place\" column (example: convert to lowercase, remove extra spaces)\n",
    "helicopter_accidents['Place'] = helicopter_accidents['Place'].str.lower().str.strip() \n",
    "# Remove punctuation and special characters\n",
    "helicopter_accidents['Place'] = helicopter_accidents['Place'].str.replace(r'[^\\w\\s]', '', regex=True) \n",
    "# # Convert the 'Type of Aircraft' column to string\n",
    "helicopter_accidents['Type of Aircraft'] = helicopter_accidents['Type of Aircraft'].astype(str)\n",
    "# # Convert the 'Operator' column to string\n",
    "helicopter_accidents['Operator'] = helicopter_accidents['Operator'].astype(str)\n",
    "# adding type\n",
    "helicopter_accidents['Type'] = 'heli'\n",
    "\n",
    "\n",
    "# Check for missing values\n",
    "# print(helicopter_accidents.isnull().sum())\n",
    "\n",
    "# # Inspect the DataFrame after conversion\n",
    "print(helicopter_accidents.info())"
   ]
  },
  {
   "cell_type": "code",
   "execution_count": 140,
   "id": "6e6c1d6d-ab84-4640-93a5-7879588826f3",
   "metadata": {},
   "outputs": [
    {
     "name": "stdout",
     "output_type": "stream",
     "text": [
      "<class 'pandas.core.frame.DataFrame'>\n",
      "RangeIndex: 102 entries, 0 to 101\n",
      "Data columns (total 6 columns):\n",
      " #   Column            Non-Null Count  Dtype         \n",
      "---  ------            --------------  -----         \n",
      " 0   Date              102 non-null    datetime64[ns]\n",
      " 1   Type of Aircraft  102 non-null    object        \n",
      " 2   Operator          102 non-null    object        \n",
      " 3   Place             102 non-null    object        \n",
      " 4   Fatality          101 non-null    float64       \n",
      " 5   Type              102 non-null    object        \n",
      "dtypes: datetime64[ns](1), float64(1), object(4)\n",
      "memory usage: 4.9+ KB\n",
      "None\n",
      "        Date              Type of Aircraft                      Operator  \\\n",
      "0 1946-05-07  Douglas C-47 Skytrain (DC-3)               Royal Air Force   \n",
      "1 1955-08-30  Douglas C-47 Skytrain (DC-3)              Kalinga Airlines   \n",
      "2 1960-05-05     Pilatus PC-6 Turbo Porter  Swiss Dhaulagiri Expendition   \n",
      "3 1960-11-05                  Douglas DC-3          Royal Nepal Airlines   \n",
      "4 1961-03-22                  Douglas DC-3                           PIA   \n",
      "\n",
      "             Place  Fatality      Type  \n",
      "0  simara narayani       0.0  domestic  \n",
      "1  simara narayani       2.0  domestic  \n",
      "2            nepal       0.0  domestic  \n",
      "3            nepal       4.0  domestic  \n",
      "4      nepal nepal       0.0  domestic  \n"
     ]
    }
   ],
   "source": [
    "# combine all datasets into one\n",
    "all_accidents = pd.concat([domestic_accidents, foreign_accidents, helicopter_accidents], ignore_index=True)\n",
    "\n",
    "# Verify the combined dataset\n",
    "print(all_accidents.info())\n",
    "\n",
    "print(all_accidents.head())"
   ]
  },
  {
   "cell_type": "code",
   "execution_count": 142,
   "id": "d6e364ed-5317-41b7-bfc1-b8cee368bf45",
   "metadata": {},
   "outputs": [],
   "source": [
    "# # Save combined dataset for future use\n",
    "# ignore_index=True argument ensures the new DataFrame has a continuous index\n",
    "all_accidents.to_csv('all_accidents.csv', index=False)"
   ]
  },
  {
   "cell_type": "code",
   "execution_count": 146,
   "id": "3959bcca-b91c-4763-a273-cd5d2d6bd2a1",
   "metadata": {},
   "outputs": [
    {
     "name": "stdout",
     "output_type": "stream",
     "text": [
      "Type\n",
      "domestic    60\n",
      "foreign      7\n",
      "heli        35\n",
      "dtype: int64\n"
     ]
    }
   ],
   "source": [
    "grouped = all_accidents.groupby('Type')\n",
    "print(grouped.size())\n",
    "# print(grouped.head())"
   ]
  },
  {
   "cell_type": "code",
   "execution_count": null,
   "id": "2f94f144-ed90-4d21-9297-c2a347d2c35e",
   "metadata": {},
   "outputs": [],
   "source": []
  },
  {
   "cell_type": "code",
   "execution_count": null,
   "id": "f3c5d4be-95f7-41b8-9b51-fcd7fb9f86d9",
   "metadata": {},
   "outputs": [],
   "source": []
  },
  {
   "cell_type": "code",
   "execution_count": null,
   "id": "06695cc4-f7b9-406a-896e-536ad74c1185",
   "metadata": {},
   "outputs": [],
   "source": []
  },
  {
   "cell_type": "code",
   "execution_count": null,
   "id": "c53bc8d4-5db6-42e9-bb60-cef17e0143f9",
   "metadata": {},
   "outputs": [],
   "source": []
  },
  {
   "cell_type": "code",
   "execution_count": null,
   "id": "69ef898e-671e-4f17-b435-205f27e353d8",
   "metadata": {},
   "outputs": [],
   "source": []
  },
  {
   "cell_type": "code",
   "execution_count": null,
   "id": "16bdfbe9-de29-4e0a-a8c6-119ccb429f37",
   "metadata": {},
   "outputs": [],
   "source": []
  },
  {
   "cell_type": "code",
   "execution_count": null,
   "id": "f3b8369b-a1b1-4612-bc31-ad9669849cd8",
   "metadata": {},
   "outputs": [],
   "source": []
  },
  {
   "cell_type": "code",
   "execution_count": null,
   "id": "812993c5-0793-43eb-ba1f-71c3ef1d200b",
   "metadata": {},
   "outputs": [],
   "source": []
  }
 ],
 "metadata": {
  "kernelspec": {
   "display_name": "Python 3 (ipykernel)",
   "language": "python",
   "name": "python3"
  },
  "language_info": {
   "codemirror_mode": {
    "name": "ipython",
    "version": 3
   },
   "file_extension": ".py",
   "mimetype": "text/x-python",
   "name": "python",
   "nbconvert_exporter": "python",
   "pygments_lexer": "ipython3",
   "version": "3.10.12"
  }
 },
 "nbformat": 4,
 "nbformat_minor": 5
}
